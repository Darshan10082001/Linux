{
  "nbformat": 4,
  "nbformat_minor": 0,
  "metadata": {
    "colab": {
      "provenance": []
    },
    "kernelspec": {
      "name": "python3",
      "display_name": "Python 3"
    },
    "language_info": {
      "name": "python"
    }
  },
  "cells": [
    {
      "cell_type": "markdown",
      "source": [
        "#Linux Assignment"
      ],
      "metadata": {
        "id": "oRpwK6PmMTYz"
      }
    },
    {
      "cell_type": "markdown",
      "source": [
        "1. What is Linux?\n",
        "- The Linux is a type of Open source operating system that is similar to Unix, and it is built upon the Linux Kernel."
      ],
      "metadata": {
        "id": "HWhQR0uWMiL1"
      }
    },
    {
      "cell_type": "markdown",
      "source": [
        "2. What is the difference between Hard Link & Soft Link?\n",
        "- Hard Link\n",
        "\n",
        " => A Hard link acts as a copy of the selected file. It accesses the data available in the original file. If the earlier selected file is deleted, the hard link to the file will still contain the data of that file.\n",
        "\n",
        " => Files that are hard linked take the same inode number.\n",
        "\n",
        " => Hard links are not allowed for directories.\n",
        "\n",
        " => It cannot be used across file systems.\n",
        "\n",
        " => Data present in the original file will still be available in the hard links.\n",
        "\n",
        " => If the original file is removed, the link will still work as it accesses    the data the original was having access to.\n",
        "\n",
        " => Hard links are comparatively faster.\n",
        "\n",
        "\n",
        " - Soft Link\n",
        "\n",
        " => A soft link acts as a pointer or a reference to the file name. It does not access the data available in the original file. If the earlier file is deleted, the soft link will be pointing to a file that does not exist anymore.\n",
        "\n",
        " => Files that are soft linked take a different inode number.\n",
        "\n",
        " => Soft links can be used for linking directories.\n",
        "\n",
        " => It can be used across file systems.\n",
        "\n",
        " => Soft links only point to the file name, it does not retain data of the file.\n",
        "\n",
        " => If the original file is removed, the link will not work as it doesn't access the original file's data.\n",
        "\n",
        " => Soft links are comparatively slower.\n",
        "\n"
      ],
      "metadata": {
        "id": "TmxvJB-VOu5a"
      }
    },
    {
      "cell_type": "markdown",
      "source": [
        "3. What is a Kernel in Linux?\n",
        "\n",
        "- The Kernel is the core part of the Linux operating system. It acts as a bridge between applications and the hardware of a computer."
      ],
      "metadata": {
        "id": "6fyXyog5SdrH"
      }
    },
    {
      "cell_type": "markdown",
      "source": [
        "4. How do you create a user account?\n",
        "\n",
        "- 'useradd' is a command in Linux that is used to add user accounts to your system or to change existing user data."
      ],
      "metadata": {
        "id": "s4tMWgZ_TtOe"
      }
    },
    {
      "cell_type": "markdown",
      "source": [
        "5. What is the ‘grep’ command used for in Linux?\n",
        "\n",
        "- The grep command is one of the most useful tools in Linux systems. It is used to search for specific words, phrases, or patterns inside text files, and shows the matching lines on your screen."
      ],
      "metadata": {
        "id": "CUNAEq39bopk"
      }
    },
    {
      "cell_type": "markdown",
      "source": [
        "6. Step1: Create user p1\n",
        "\n",
        "- `sudo useradd p1`\n",
        "\n",
        "  Step2: He should be part of 3 groups g1,g2,g3.\n",
        "\n",
        "- `sudo groupadd g1`\n",
        "\n",
        "  `sudo groupadd g2`\n",
        "\n",
        "  `sudo groupadd g3`\n",
        "\n",
        "\n",
        "- `sudo usermod -aG g1,g2,g3 p1`\n",
        "\n",
        "  Step3: whenever he creates a file automatically in the group section of file grp g1 should come\n",
        "\n",
        "- `sudo usermod -g g1 p1`\n",
        "\n",
        "\n",
        "\n",
        "\n"
      ],
      "metadata": {
        "id": "eLF1SJdLckKn"
      }
    },
    {
      "cell_type": "markdown",
      "source": [
        "7. Step1: Create directory /tmp/bg as root user and create files inside it.\n",
        "\n",
        "- `mkdir /tmp/bg`\n",
        "\n",
        "  `touch /tmp/bg/file1.txt /tmp/bg/file2.txt`\n",
        "\n",
        "   Step2: “abhi” should be the owner of the directory. He should be able to create files and delete files inside the directory and also he should be able to add content to all files inside the directory.\n",
        "\n",
        "- `sudo adduser abhi` -> Create user abhi\n",
        "\n",
        "  `chown abhi /tmp/bg` -> Make abhi the owner of the directory\n",
        "\n",
        "  `sudo groupadd bggrp` -> Create a group\n",
        "\n",
        "  `sudo usermod -aG bggrp abhi` -> Add abhi to the group\n",
        "\n",
        "  `chgrp -R bggrp /tmp/bg` -> Change group ownership of the directory and all files\n",
        "\n",
        "  `chmod -R g+rw /tmp/bg` -> Give group write, delet, permission to all files\n",
        "\n",
        "\n",
        "\n",
        "\n",
        "\n",
        "\n",
        "\n",
        "\n",
        "\n",
        "   "
      ],
      "metadata": {
        "id": "Q09ZeIpRic6A"
      }
    },
    {
      "cell_type": "markdown",
      "source": [
        "8. You suspect that a particular process is consuming excessive CPU resources on your Linux server. How would you identify and terminate this process?\n",
        "\n",
        "- Step 1: Identify the Process\n",
        "\n",
        "  `top`\n",
        "        -> This displays real-time system usage.\n",
        "        \n",
        "        -> Processes are sorted by CPU usage by default.\n",
        "\n",
        "        -> Look for the %CPU column to identify the process using the most CPU.\n",
        "\n",
        "        -> Note the PID (Process ID) of the offending process.\n",
        "\n",
        "- Step 2: Terminate the Process\n",
        "\n",
        "  `kill 1234` -> Once we have identified the PID (say it's 1234), use the kill command.\n",
        "\n",
        "  `kill -9 1234` -> If the process doesn't terminate, force it with\n",
        "                \n",
        "\n",
        "\n"
      ],
      "metadata": {
        "id": "wMqoeqX3u4J_"
      }
    },
    {
      "cell_type": "code",
      "execution_count": null,
      "metadata": {
        "id": "gIM-AKW-L0HZ"
      },
      "outputs": [],
      "source": []
    }
  ]
}